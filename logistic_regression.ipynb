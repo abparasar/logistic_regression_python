{
 "cells": [
  {
   "cell_type": "code",
   "execution_count": 91,
   "metadata": {},
   "outputs": [
    {
     "name": "stdout",
     "output_type": "stream",
     "text": [
      "C:\\Users\\HP\\Desktop\\Python scripts\\logistic regressiopn\n",
      "Id           0\n",
      "age          9\n",
      "job          0\n",
      "marital      0\n",
      "education    0\n",
      "default      0\n",
      "balance      3\n",
      "housing      0\n",
      "loan         0\n",
      "contact      0\n",
      "day          0\n",
      "month        0\n",
      "duration     0\n",
      "campaign     0\n",
      "pdays        0\n",
      "previous     0\n",
      "poutcome     0\n",
      "y            0\n",
      "dtype: int64\n",
      "<class 'pandas.core.frame.DataFrame'>\n",
      "RangeIndex: 45211 entries, 0 to 45210\n",
      "Data columns (total 18 columns):\n",
      "Id           45211 non-null int64\n",
      "age          45211 non-null float64\n",
      "job          45211 non-null object\n",
      "marital      45211 non-null object\n",
      "education    45211 non-null object\n",
      "default      45211 non-null object\n",
      "balance      45211 non-null float64\n",
      "housing      45211 non-null object\n",
      "loan         45211 non-null object\n",
      "contact      45211 non-null object\n",
      "day          45211 non-null int64\n",
      "month        45211 non-null object\n",
      "duration     45211 non-null int64\n",
      "campaign     45211 non-null int64\n",
      "pdays        45211 non-null int64\n",
      "previous     45211 non-null int64\n",
      "poutcome     45211 non-null object\n",
      "y            45211 non-null object\n",
      "dtypes: float64(2), int64(6), object(10)\n",
      "memory usage: 6.2+ MB\n"
     ]
    }
   ],
   "source": [
    "import os\n",
    "import pandas as pd\n",
    "print(os.getcwd())\n",
    "os.chdir('C:/Users/HP/Desktop/Python scripts/logistic regressiopn')\n",
    "\n",
    "bank_full = pd.read_csv('bank-full.csv')\n",
    "bank_full.head()\n",
    "\n",
    "bank_full.describe()\n",
    "print(bank_full.isnull().sum())\n",
    "bank_full.fillna(bank_full.mean(), inplace=True)\n",
    "bank_full.isnull().sum()\n",
    "bank_full.info()"
   ]
  },
  {
   "cell_type": "code",
   "execution_count": 92,
   "metadata": {},
   "outputs": [
    {
     "data": {
      "text/plain": [
       "<matplotlib.axes._subplots.AxesSubplot at 0x1b713a7e888>"
      ]
     },
     "execution_count": 92,
     "metadata": {},
     "output_type": "execute_result"
    },
    {
     "data": {
      "image/png": "[encoded data removed]",
      "text/plain": [
       "<Figure size 432x288 with 1 Axes>"
      ]
     },
     "metadata": {
      "needs_background": "light"
     },
     "output_type": "display_data"
    }
   ],
   "source": [
    "bank_full.boxplot()"
   ]
  },
  {
   "cell_type": "code",
   "execution_count": 93,
   "metadata": {},
   "outputs": [
    {
     "data": {
      "text/plain": [
       "<matplotlib.axes._subplots.AxesSubplot at 0x1b7150b72c8>"
      ]
     },
     "execution_count": 93,
     "metadata": {},
     "output_type": "execute_result"
    },
    {
     "data": {
      "image/png": "[encoded data removed]",
      "text/plain": [
       "<Figure size 432x288 with 1 Axes>"
      ]
     },
     "metadata": {
      "needs_background": "light"
     },
     "output_type": "display_data"
    }
   ],
   "source": [
    "q1 = bank_full['age'].quantile(0.25)\n",
    "q3 = bank_full['age'].quantile(0.75)\n",
    "\n",
    "IQR = q3-q1\n",
    "\n",
    "\n",
    "\n",
    "bank_full.loc[bank_full.age > 1.5 * IQR + q3 , 'age'] = bank_full['age'].quantile(0.95)\n",
    "bank_full.loc[bank_full.age < q1 - 1.5 * IQR , 'age'] = bank_full['age'].quantile(0.05)\n",
    "\n",
    "bank_full.boxplot('age')"
   ]
  },
  {
   "cell_type": "code",
   "execution_count": 94,
   "metadata": {},
   "outputs": [
    {
     "data": {
      "text/plain": [
       "<matplotlib.axes._subplots.AxesSubplot at 0x1b71608cf08>"
      ]
     },
     "execution_count": 94,
     "metadata": {},
     "output_type": "execute_result"
    },
    {
     "data": {
      "image/png": "[encoded data removed]",
      "text/plain": [
       "<Figure size 432x288 with 1 Axes>"
      ]
     },
     "metadata": {
      "needs_background": "light"
     },
     "output_type": "display_data"
    }
   ],
   "source": [
    "q1 = bank_full['balance'].quantile(0.25)\n",
    "q3 = bank_full['balance'].quantile(0.75)\n",
    "\n",
    "IQR = q3-q1\n",
    "\n",
    "\n",
    "\n",
    "bank_full.loc[bank_full.balance > 1.5 * IQR + q3 , 'balance'] = bank_full['balance'].quantile(0.95)\n",
    "bank_full.loc[bank_full.balance < q1 - 1.5 * IQR , 'balance'] = bank_full['balance'].quantile(0.05)\n",
    "\n",
    "bank_full.boxplot('balance')"
   ]
  },
  {
   "cell_type": "code",
   "execution_count": 95,
   "metadata": {},
   "outputs": [
    {
     "data": {
      "text/plain": [
       "<matplotlib.axes._subplots.AxesSubplot at 0x1b71610f0c8>"
      ]
     },
     "execution_count": 95,
     "metadata": {},
     "output_type": "execute_result"
    },
    {
     "data": {
      "image/png": "[encoded data removed]",
      "text/plain": [
       "<Figure size 432x288 with 1 Axes>"
      ]
     },
     "metadata": {
      "needs_background": "light"
     },
     "output_type": "display_data"
    }
   ],
   "source": [
    "q1 = bank_full['day'].quantile(0.25)\n",
    "q3 = bank_full['day'].quantile(0.75)\n",
    "\n",
    "IQR = q3-q1\n",
    "\n",
    "\n",
    "\n",
    "bank_full.loc[bank_full.day > 1.5 * IQR + q3 , 'day'] = bank_full['day'].quantile(0.95)\n",
    "bank_full.loc[bank_full.day < q1 - 1.5 * IQR , 'day'] = bank_full['day'].quantile(0.05)\n",
    "\n",
    "bank_full.boxplot('day')"
   ]
  },
  {
   "cell_type": "code",
   "execution_count": 96,
   "metadata": {},
   "outputs": [
    {
     "data": {
      "text/plain": [
       "<matplotlib.axes._subplots.AxesSubplot at 0x1b71617dc88>"
      ]
     },
     "execution_count": 96,
     "metadata": {},
     "output_type": "execute_result"
    },
    {
     "data": {
      "image/png": "[encoded data removed]",
      "text/plain": [
       "<Figure size 432x288 with 1 Axes>"
      ]
     },
     "metadata": {
      "needs_background": "light"
     },
     "output_type": "display_data"
    }
   ],
   "source": [
    "q1 = bank_full['duration'].quantile(0.25)\n",
    "q3 = bank_full['duration'].quantile(0.75)\n",
    "\n",
    "IQR = q3-q1\n",
    "\n",
    "\n",
    "\n",
    "bank_full.loc[bank_full.duration > 1.5 * IQR + q3 , 'duration'] = bank_full['duration'].quantile(0.95)\n",
    "bank_full.loc[bank_full.duration < q1 - 1.5 * IQR , 'duration'] = bank_full['duration'].quantile(0.05)\n",
    "\n",
    "bank_full.boxplot('duration')"
   ]
  },
  {
   "cell_type": "code",
   "execution_count": 97,
   "metadata": {},
   "outputs": [
    {
     "data": {
      "text/plain": [
       "<matplotlib.axes._subplots.AxesSubplot at 0x1b7161f38c8>"
      ]
     },
     "execution_count": 97,
     "metadata": {},
     "output_type": "execute_result"
    },
    {
     "data": {
      "image/png": "[encoded data removed]",
      "text/plain": [
       "<Figure size 432x288 with 1 Axes>"
      ]
     },
     "metadata": {
      "needs_background": "light"
     },
     "output_type": "display_data"
    }
   ],
   "source": [
    "q1 = bank_full['campaign'].quantile(0.25)\n",
    "q3 = bank_full['campaign'].quantile(0.75)\n",
    "\n",
    "IQR = q3-q1\n",
    "\n",
    "\n",
    "\n",
    "bank_full.loc[bank_full.campaign > 1.5 * IQR + q3 , 'campaign'] = bank_full['campaign'].quantile(0.95)\n",
    "bank_full.loc[bank_full.campaign < q1 - 1.5 * IQR , 'campaign'] = bank_full['campaign'].quantile(0.05)\n",
    "\n",
    "bank_full.boxplot('campaign')"
   ]
  },
  {
   "cell_type": "code",
   "execution_count": 98,
   "metadata": {},
   "outputs": [
    {
     "data": {
      "text/plain": [
       "<matplotlib.axes._subplots.AxesSubplot at 0x1b716265848>"
      ]
     },
     "execution_count": 98,
     "metadata": {},
     "output_type": "execute_result"
    },
    {
     "data": {
      "image/png": "[encoded data removed]",
      "text/plain": [
       "<Figure size 432x288 with 1 Axes>"
      ]
     },
     "metadata": {
      "needs_background": "light"
     },
     "output_type": "display_data"
    }
   ],
   "source": [
    "q1 = bank_full['pdays'].quantile(0.25)\n",
    "q3 = bank_full['pdays'].quantile(0.75)\n",
    "\n",
    "IQR = q3-q1\n",
    "\n",
    "\n",
    "\n",
    "bank_full.loc[bank_full.pdays > 1.5 * IQR + q3 , 'pdays'] = bank_full['pdays'].quantile(0.95)\n",
    "bank_full.loc[bank_full.pdays < q1 - 1.5 * IQR , 'pdays'] = bank_full['pdays'].quantile(0.05)\n",
    "\n",
    "bank_full.boxplot('pdays')"
   ]
  },
  {
   "cell_type": "code",
   "execution_count": 99,
   "metadata": {},
   "outputs": [
    {
     "data": {
      "text/plain": [
       "<matplotlib.axes._subplots.AxesSubplot at 0x1b717491688>"
      ]
     },
     "execution_count": 99,
     "metadata": {},
     "output_type": "execute_result"
    },
    {
     "data": {
      "image/png": "[encoded data removed]",
      "text/plain": [
       "<Figure size 432x288 with 1 Axes>"
      ]
     },
     "metadata": {
      "needs_background": "light"
     },
     "output_type": "display_data"
    }
   ],
   "source": [
    "q1 = bank_full['previous'].quantile(0.25)\n",
    "q3 = bank_full['previous'].quantile(0.75)\n",
    "\n",
    "IQR = q3-q1\n",
    "\n",
    "\n",
    "\n",
    "bank_full.loc[bank_full.previous > 1.5 * IQR + q3 , 'previous'] = bank_full['previous'].quantile(0.95)\n",
    "bank_full.loc[bank_full.previous < q1 - 1.5 * IQR , 'previous'] = bank_full['previous'].quantile(0.05)\n",
    "\n",
    "bank_full.boxplot('previous')"
   ]
  },
  {
   "cell_type": "code",
   "execution_count": 100,
   "metadata": {},
   "outputs": [],
   "source": [
    "# Import library for VIF\n",
    "from statsmodels.stats.outliers_influence import variance_inflation_factor\n",
    "\n",
    "def calc_vif(X):\n",
    "\n",
    "    # Calculating VIF\n",
    "    vif = pd.DataFrame()\n",
    "    vif[\"variables\"] = X.columns\n",
    "    vif[\"VIF\"] = [variance_inflation_factor(X.values, i) for i in range(X.shape[1])]\n",
    "\n",
    "    return(vif)"
   ]
  },
  {
   "cell_type": "code",
   "execution_count": 104,
   "metadata": {},
   "outputs": [
    {
     "data": {
      "text/html": [
       "<div>\n",
       "<style scoped>\n",
       "    .dataframe tbody tr th:only-of-type {\n",
       "        vertical-align: middle;\n",
       "    }\n",
       "\n",
       "    .dataframe tbody tr th {\n",
       "        vertical-align: top;\n",
       "    }\n",
       "\n",
       "    .dataframe thead th {\n",
       "        text-align: right;\n",
       "    }\n",
       "</style>\n",
       "<table border=\"1\" class=\"dataframe\">\n",
       "  <thead>\n",
       "    <tr style=\"text-align: right;\">\n",
       "      <th></th>\n",
       "      <th>variables</th>\n",
       "      <th>VIF</th>\n",
       "    </tr>\n",
       "  </thead>\n",
       "  <tbody>\n",
       "    <tr>\n",
       "      <td>0</td>\n",
       "      <td>balance</td>\n",
       "      <td>1.395086</td>\n",
       "    </tr>\n",
       "    <tr>\n",
       "      <td>1</td>\n",
       "      <td>day</td>\n",
       "      <td>2.983716</td>\n",
       "    </tr>\n",
       "    <tr>\n",
       "      <td>2</td>\n",
       "      <td>duration</td>\n",
       "      <td>1.984507</td>\n",
       "    </tr>\n",
       "    <tr>\n",
       "      <td>3</td>\n",
       "      <td>campaign</td>\n",
       "      <td>2.320951</td>\n",
       "    </tr>\n",
       "    <tr>\n",
       "      <td>4</td>\n",
       "      <td>pdays</td>\n",
       "      <td>1.167903</td>\n",
       "    </tr>\n",
       "  </tbody>\n",
       "</table>\n",
       "</div>"
      ],
      "text/plain": [
       "  variables       VIF\n",
       "0   balance  1.395086\n",
       "1       day  2.983716\n",
       "2  duration  1.984507\n",
       "3  campaign  2.320951\n",
       "4     pdays  1.167903"
      ]
     },
     "execution_count": 104,
     "metadata": {},
     "output_type": "execute_result"
    }
   ],
   "source": [
    "#removed y\n",
    "\n",
    "X = bank_full.loc[:,['Id','age', 'balance','day','duration', 'campaign',\n",
    "       'pdays', 'previous']]\n",
    "calc_vif(X)"
   ]
  },
  {
   "cell_type": "code",
   "execution_count": 107,
   "metadata": {},
   "outputs": [
    {
     "data": {
      "text/html": [
       "<div>\n",
       "<style scoped>\n",
       "    .dataframe tbody tr th:only-of-type {\n",
       "        vertical-align: middle;\n",
       "    }\n",
       "\n",
       "    .dataframe tbody tr th {\n",
       "        vertical-align: top;\n",
       "    }\n",
       "\n",
       "    .dataframe thead th {\n",
       "        text-align: right;\n",
       "    }\n",
       "</style>\n",
       "<table border=\"1\" class=\"dataframe\">\n",
       "  <thead>\n",
       "    <tr style=\"text-align: right;\">\n",
       "      <th></th>\n",
       "      <th>job</th>\n",
       "      <th>marital</th>\n",
       "      <th>education</th>\n",
       "      <th>default</th>\n",
       "      <th>balance</th>\n",
       "      <th>housing</th>\n",
       "      <th>loan</th>\n",
       "      <th>contact</th>\n",
       "      <th>day</th>\n",
       "      <th>month</th>\n",
       "      <th>duration</th>\n",
       "      <th>campaign</th>\n",
       "      <th>pdays</th>\n",
       "      <th>poutcome</th>\n",
       "      <th>y</th>\n",
       "    </tr>\n",
       "  </thead>\n",
       "  <tbody>\n",
       "    <tr>\n",
       "      <td>0</td>\n",
       "      <td>management</td>\n",
       "      <td>married</td>\n",
       "      <td>tertiary</td>\n",
       "      <td>no</td>\n",
       "      <td>2143.0</td>\n",
       "      <td>yes</td>\n",
       "      <td>no</td>\n",
       "      <td>unknown</td>\n",
       "      <td>5.0</td>\n",
       "      <td>may</td>\n",
       "      <td>261.0</td>\n",
       "      <td>1.0</td>\n",
       "      <td>-1.0</td>\n",
       "      <td>unknown</td>\n",
       "      <td>no</td>\n",
       "    </tr>\n",
       "    <tr>\n",
       "      <td>1</td>\n",
       "      <td>technician</td>\n",
       "      <td>single</td>\n",
       "      <td>secondary</td>\n",
       "      <td>no</td>\n",
       "      <td>29.0</td>\n",
       "      <td>yes</td>\n",
       "      <td>no</td>\n",
       "      <td>unknown</td>\n",
       "      <td>5.0</td>\n",
       "      <td>may</td>\n",
       "      <td>151.0</td>\n",
       "      <td>1.0</td>\n",
       "      <td>-1.0</td>\n",
       "      <td>unknown</td>\n",
       "      <td>no</td>\n",
       "    </tr>\n",
       "    <tr>\n",
       "      <td>2</td>\n",
       "      <td>entrepreneur</td>\n",
       "      <td>married</td>\n",
       "      <td>secondary</td>\n",
       "      <td>no</td>\n",
       "      <td>2.0</td>\n",
       "      <td>yes</td>\n",
       "      <td>yes</td>\n",
       "      <td>unknown</td>\n",
       "      <td>5.0</td>\n",
       "      <td>may</td>\n",
       "      <td>76.0</td>\n",
       "      <td>1.0</td>\n",
       "      <td>-1.0</td>\n",
       "      <td>unknown</td>\n",
       "      <td>no</td>\n",
       "    </tr>\n",
       "    <tr>\n",
       "      <td>3</td>\n",
       "      <td>blue-collar</td>\n",
       "      <td>married</td>\n",
       "      <td>unknown</td>\n",
       "      <td>no</td>\n",
       "      <td>1506.0</td>\n",
       "      <td>yes</td>\n",
       "      <td>no</td>\n",
       "      <td>unknown</td>\n",
       "      <td>5.0</td>\n",
       "      <td>may</td>\n",
       "      <td>92.0</td>\n",
       "      <td>1.0</td>\n",
       "      <td>-1.0</td>\n",
       "      <td>unknown</td>\n",
       "      <td>no</td>\n",
       "    </tr>\n",
       "    <tr>\n",
       "      <td>4</td>\n",
       "      <td>unknown</td>\n",
       "      <td>single</td>\n",
       "      <td>unknown</td>\n",
       "      <td>no</td>\n",
       "      <td>1.0</td>\n",
       "      <td>no</td>\n",
       "      <td>no</td>\n",
       "      <td>unknown</td>\n",
       "      <td>5.0</td>\n",
       "      <td>may</td>\n",
       "      <td>198.0</td>\n",
       "      <td>1.0</td>\n",
       "      <td>-1.0</td>\n",
       "      <td>unknown</td>\n",
       "      <td>no</td>\n",
       "    </tr>\n",
       "    <tr>\n",
       "      <td>...</td>\n",
       "      <td>...</td>\n",
       "      <td>...</td>\n",
       "      <td>...</td>\n",
       "      <td>...</td>\n",
       "      <td>...</td>\n",
       "      <td>...</td>\n",
       "      <td>...</td>\n",
       "      <td>...</td>\n",
       "      <td>...</td>\n",
       "      <td>...</td>\n",
       "      <td>...</td>\n",
       "      <td>...</td>\n",
       "      <td>...</td>\n",
       "      <td>...</td>\n",
       "      <td>...</td>\n",
       "    </tr>\n",
       "    <tr>\n",
       "      <td>45206</td>\n",
       "      <td>technician</td>\n",
       "      <td>married</td>\n",
       "      <td>tertiary</td>\n",
       "      <td>no</td>\n",
       "      <td>825.0</td>\n",
       "      <td>no</td>\n",
       "      <td>no</td>\n",
       "      <td>cellular</td>\n",
       "      <td>17.0</td>\n",
       "      <td>nov</td>\n",
       "      <td>751.0</td>\n",
       "      <td>3.0</td>\n",
       "      <td>-1.0</td>\n",
       "      <td>unknown</td>\n",
       "      <td>yes</td>\n",
       "    </tr>\n",
       "    <tr>\n",
       "      <td>45207</td>\n",
       "      <td>retired</td>\n",
       "      <td>divorced</td>\n",
       "      <td>primary</td>\n",
       "      <td>no</td>\n",
       "      <td>1729.0</td>\n",
       "      <td>no</td>\n",
       "      <td>no</td>\n",
       "      <td>cellular</td>\n",
       "      <td>17.0</td>\n",
       "      <td>nov</td>\n",
       "      <td>456.0</td>\n",
       "      <td>2.0</td>\n",
       "      <td>-1.0</td>\n",
       "      <td>unknown</td>\n",
       "      <td>yes</td>\n",
       "    </tr>\n",
       "    <tr>\n",
       "      <td>45208</td>\n",
       "      <td>retired</td>\n",
       "      <td>married</td>\n",
       "      <td>secondary</td>\n",
       "      <td>no</td>\n",
       "      <td>5768.0</td>\n",
       "      <td>no</td>\n",
       "      <td>no</td>\n",
       "      <td>cellular</td>\n",
       "      <td>17.0</td>\n",
       "      <td>nov</td>\n",
       "      <td>751.0</td>\n",
       "      <td>5.0</td>\n",
       "      <td>317.0</td>\n",
       "      <td>success</td>\n",
       "      <td>yes</td>\n",
       "    </tr>\n",
       "    <tr>\n",
       "      <td>45209</td>\n",
       "      <td>blue-collar</td>\n",
       "      <td>married</td>\n",
       "      <td>secondary</td>\n",
       "      <td>no</td>\n",
       "      <td>668.0</td>\n",
       "      <td>no</td>\n",
       "      <td>no</td>\n",
       "      <td>telephone</td>\n",
       "      <td>17.0</td>\n",
       "      <td>nov</td>\n",
       "      <td>508.0</td>\n",
       "      <td>4.0</td>\n",
       "      <td>-1.0</td>\n",
       "      <td>unknown</td>\n",
       "      <td>no</td>\n",
       "    </tr>\n",
       "    <tr>\n",
       "      <td>45210</td>\n",
       "      <td>entrepreneur</td>\n",
       "      <td>married</td>\n",
       "      <td>secondary</td>\n",
       "      <td>no</td>\n",
       "      <td>2971.0</td>\n",
       "      <td>no</td>\n",
       "      <td>no</td>\n",
       "      <td>cellular</td>\n",
       "      <td>17.0</td>\n",
       "      <td>nov</td>\n",
       "      <td>361.0</td>\n",
       "      <td>2.0</td>\n",
       "      <td>317.0</td>\n",
       "      <td>other</td>\n",
       "      <td>no</td>\n",
       "    </tr>\n",
       "  </tbody>\n",
       "</table>\n",
       "<p>45211 rows × 15 columns</p>\n",
       "</div>"
      ],
      "text/plain": [
       "                job   marital  education default  balance housing loan  \\\n",
       "0        management   married   tertiary      no   2143.0     yes   no   \n",
       "1        technician    single  secondary      no     29.0     yes   no   \n",
       "2      entrepreneur   married  secondary      no      2.0     yes  yes   \n",
       "3       blue-collar   married    unknown      no   1506.0     yes   no   \n",
       "4           unknown    single    unknown      no      1.0      no   no   \n",
       "...             ...       ...        ...     ...      ...     ...  ...   \n",
       "45206    technician   married   tertiary      no    825.0      no   no   \n",
       "45207       retired  divorced    primary      no   1729.0      no   no   \n",
       "45208       retired   married  secondary      no   5768.0      no   no   \n",
       "45209   blue-collar   married  secondary      no    668.0      no   no   \n",
       "45210  entrepreneur   married  secondary      no   2971.0      no   no   \n",
       "\n",
       "         contact   day month  duration  campaign  pdays poutcome    y  \n",
       "0        unknown   5.0   may     261.0       1.0   -1.0  unknown   no  \n",
       "1        unknown   5.0   may     151.0       1.0   -1.0  unknown   no  \n",
       "2        unknown   5.0   may      76.0       1.0   -1.0  unknown   no  \n",
       "3        unknown   5.0   may      92.0       1.0   -1.0  unknown   no  \n",
       "4        unknown   5.0   may     198.0       1.0   -1.0  unknown   no  \n",
       "...          ...   ...   ...       ...       ...    ...      ...  ...  \n",
       "45206   cellular  17.0   nov     751.0       3.0   -1.0  unknown  yes  \n",
       "45207   cellular  17.0   nov     456.0       2.0   -1.0  unknown  yes  \n",
       "45208   cellular  17.0   nov     751.0       5.0  317.0  success  yes  \n",
       "45209  telephone  17.0   nov     508.0       4.0   -1.0  unknown   no  \n",
       "45210   cellular  17.0   nov     361.0       2.0  317.0    other   no  \n",
       "\n",
       "[45211 rows x 15 columns]"
      ]
     },
     "execution_count": 107,
     "metadata": {},
     "output_type": "execute_result"
    }
   ],
   "source": [
    "bank_full.drop(['previous', 'Id', 'age'], axis=1, inplace=True)\n",
    "bank_full"
   ]
  },
  {
   "cell_type": "code",
   "execution_count": 123,
   "metadata": {},
   "outputs": [],
   "source": [
    "data = pd.get_dummies(bank_full.iloc[:,:-1])\n",
    "data['y'] = bank_full.y\n",
    "data\n",
    "\n",
    "data.loc[data.y == 'no', 'y'] = 0\n",
    "data.loc[data.y == 'yes', 'y'] = 1\n",
    "data\n",
    "X = data.loc[:, data.columns != 'y']\n",
    "y = data.loc[:, data.columns == 'y']"
   ]
  },
  {
   "cell_type": "code",
   "execution_count": 132,
   "metadata": {},
   "outputs": [],
   "source": [
    "from sklearn.model_selection import train_test_split\n",
    "    \n",
    "x_train, x_test, y_train, y_test = train_test_split(x, y, test_size=0.3, random_state=0)"
   ]
  },
  {
   "cell_type": "code",
   "execution_count": 129,
   "metadata": {},
   "outputs": [
    {
     "name": "stdout",
     "output_type": "stream",
     "text": [
      "Warning: Maximum number of iterations has been exceeded.\n",
      "         Current function value: 0.229369\n",
      "         Iterations: 35\n",
      "                                  Results: Logit\n",
      "==================================================================================\n",
      "Model:                     Logit                 Pseudo R-squared:      0.364     \n",
      "Dependent Variable:        y                     AIC:                   20821.9646\n",
      "Date:                      2021-03-25 01:42      BIC:                   21179.4475\n",
      "No. Observations:          45211                 Log-Likelihood:        -10370.   \n",
      "Df Model:                  40                    LL-Null:               -16315.   \n",
      "Df Residuals:              45170                 LLR p-value:           0.0000    \n",
      "Converged:                 0.0000                Scale:                 1.0000    \n",
      "No. Iterations:            35.0000                                                \n",
      "----------------------------------------------------------------------------------\n",
      "                     Coef.    Std.Err.      z    P>|z|      [0.025       0.975]   \n",
      "----------------------------------------------------------------------------------\n",
      "balance              0.0001       0.0000  5.4596 0.0000        0.0000       0.0001\n",
      "day                  0.0097       0.0025  3.8241 0.0001        0.0047       0.0147\n",
      "duration             0.0061       0.0001 72.4102 0.0000        0.0060       0.0063\n",
      "campaign            -0.1068       0.0120 -8.9277 0.0000       -0.1303      -0.0834\n",
      "pdays                0.0021       0.0031  0.6791 0.4971       -0.0040       0.0082\n",
      "job_admin.           0.0477          nan     nan    nan           nan          nan\n",
      "job_blue-collar     -0.2904          nan     nan    nan           nan          nan\n",
      "job_entrepreneur    -0.3494          nan     nan    nan           nan          nan\n",
      "job_housemaid       -0.4334          nan     nan    nan           nan          nan\n",
      "job_management      -0.1334          nan     nan    nan           nan          nan\n",
      "job_retired          0.2411          nan     nan    nan           nan          nan\n",
      "job_self-employed   -0.2692          nan     nan    nan           nan          nan\n",
      "job_services        -0.1682          nan     nan    nan           nan          nan\n",
      "job_student          0.4791          nan     nan    nan           nan          nan\n",
      "job_technician      -0.1416          nan     nan    nan           nan          nan\n",
      "job_unemployed      -0.2150          nan     nan    nan           nan          nan\n",
      "job_unknown         -0.3595          nan     nan    nan           nan          nan\n",
      "marital_divorced    -0.4541          nan     nan    nan           nan          nan\n",
      "marital_married     -0.6509          nan     nan    nan           nan          nan\n",
      "marital_single      -0.3706          nan     nan    nan           nan          nan\n",
      "education_primary   -0.5707          nan     nan    nan           nan          nan\n",
      "education_secondary -0.4069          nan     nan    nan           nan          nan\n",
      "education_tertiary  -0.1886          nan     nan    nan           nan          nan\n",
      "education_unknown   -0.3600          nan     nan    nan           nan          nan\n",
      "default_no          -0.6335 1521639.9316 -0.0000 1.0000 -2982360.0969 2982358.8300\n",
      "default_yes         -0.7251 1495771.3121 -0.0000 1.0000 -2931658.6258 2931657.1756\n",
      "housing_no          -0.3873  936832.7153 -0.0000 1.0000 -1836158.7688 1836157.9941\n",
      "housing_yes         -1.0573 1079025.3608 -0.0000 1.0000 -2114851.9030 2114849.7884\n",
      "loan_no             -0.5292          nan     nan    nan           nan          nan\n",
      "loan_yes            -0.9155  262264.3715 -0.0000 1.0000  -514029.6380  514027.8071\n",
      "contact_cellular     0.0665  669600.6653  0.0000 1.0000 -1312393.1216 1312393.2545\n",
      "contact_telephone   -0.0396  685667.2317 -0.0000 1.0000 -1343883.1192 1343883.0400\n",
      "contact_unknown     -1.4715  688191.7113 -0.0000 1.0000 -1348832.4401 1348829.4970\n",
      "month_apr           -0.2162          nan     nan    nan           nan          nan\n",
      "month_aug           -0.8224          nan     nan    nan           nan          nan\n",
      "month_dec            0.5419          nan     nan    nan           nan          nan\n",
      "month_feb           -0.2756          nan     nan    nan           nan          nan\n",
      "month_jan           -1.4189          nan     nan    nan           nan          nan\n",
      "month_jul           -1.0166          nan     nan    nan           nan          nan\n",
      "month_jun            0.2702          nan     nan    nan           nan          nan\n",
      "month_mar            1.5919          nan     nan    nan           nan          nan\n",
      "month_may           -0.5928          nan     nan    nan           nan          nan\n",
      "month_nov           -1.0711          nan     nan    nan           nan          nan\n",
      "month_oct            0.7970          nan     nan    nan           nan          nan\n",
      "month_sep            0.7680          nan     nan    nan           nan          nan\n",
      "poutcome_failure    -1.1507          nan     nan    nan           nan          nan\n",
      "poutcome_other      -0.9424          nan     nan    nan           nan          nan\n",
      "poutcome_success     1.2381          nan     nan    nan           nan          nan\n",
      "poutcome_unknown    -0.5896          nan     nan    nan           nan          nan\n",
      "==================================================================================\n",
      "\n"
     ]
    },
    {
     "name": "stderr",
     "output_type": "stream",
     "text": [
      "C:\\Users\\HP\\Anaconda3\\lib\\site-packages\\statsmodels\\base\\model.py:512: ConvergenceWarning: Maximum Likelihood optimization failed to converge. Check mle_retvals\n",
      "  \"Check mle_retvals\", ConvergenceWarning)\n"
     ]
    }
   ],
   "source": [
    "import statsmodels.api as sm\n",
    "logit_model=sm.Logit(y,x)\n",
    "result=logit_model.fit()\n",
    "print(result.summary2())"
   ]
  },
  {
   "cell_type": "code",
   "execution_count": 133,
   "metadata": {},
   "outputs": [
    {
     "name": "stderr",
     "output_type": "stream",
     "text": [
      "C:\\Users\\HP\\Anaconda3\\lib\\site-packages\\sklearn\\linear_model\\logistic.py:432: FutureWarning: Default solver will be changed to 'lbfgs' in 0.22. Specify a solver to silence this warning.\n",
      "  FutureWarning)\n",
      "C:\\Users\\HP\\Anaconda3\\lib\\site-packages\\sklearn\\utils\\validation.py:724: DataConversionWarning: A column-vector y was passed when a 1d array was expected. Please change the shape of y to (n_samples, ), for example using ravel().\n",
      "  y = column_or_1d(y, warn=True)\n"
     ]
    },
    {
     "data": {
      "text/plain": [
       "LogisticRegression(C=1.0, class_weight=None, dual=False, fit_intercept=True,\n",
       "                   intercept_scaling=1, l1_ratio=None, max_iter=100,\n",
       "                   multi_class='warn', n_jobs=None, penalty='l2',\n",
       "                   random_state=None, solver='warn', tol=0.0001, verbose=0,\n",
       "                   warm_start=False)"
      ]
     },
     "execution_count": 133,
     "metadata": {},
     "output_type": "execute_result"
    }
   ],
   "source": [
    "from sklearn.linear_model import LogisticRegression\n",
    "from sklearn import metrics\n",
    "logreg = LogisticRegression()\n",
    "logreg.fit(x_train, y_train)"
   ]
  },
  {
   "cell_type": "code",
   "execution_count": 134,
   "metadata": {},
   "outputs": [
    {
     "name": "stdout",
     "output_type": "stream",
     "text": [
      "Accuracy of logistic regression classifier on test set: 0.90\n"
     ]
    }
   ],
   "source": [
    "y_pred = logreg.predict(x_test)\n",
    "print('Accuracy of logistic regression classifier on test set: {:.2f}'.format(logreg.score(x_test, y_test)))"
   ]
  },
  {
   "cell_type": "code",
   "execution_count": 135,
   "metadata": {},
   "outputs": [
    {
     "name": "stdout",
     "output_type": "stream",
     "text": [
      "[[11557   412]\n",
      " [  995   600]]\n"
     ]
    }
   ],
   "source": [
    "from sklearn.metrics import confusion_matrix\n",
    "confusion_matrix = confusion_matrix(y_test, y_pred)\n",
    "print(confusion_matrix)"
   ]
  },
  {
   "cell_type": "code",
   "execution_count": 138,
   "metadata": {},
   "outputs": [
    {
     "data": {
      "image/png": "[encoded data removed]",
      "text/plain": [
       "<Figure size 432x288 with 1 Axes>"
      ]
     },
     "metadata": {
      "needs_background": "light"
     },
     "output_type": "display_data"
    }
   ],
   "source": [
    "from sklearn.metrics import roc_auc_score\n",
    "from sklearn.metrics import roc_curve\n",
    "import matplotlib.pyplot as plt \n",
    "logit_roc_auc = roc_auc_score(y_test, logreg.predict(x_test))\n",
    "fpr, tpr, thresholds = roc_curve(y_test, logreg.predict_proba(x_test)[:,1])\n",
    "plt.figure()\n",
    "plt.plot(fpr, tpr, label='Logistic Regression (area = %0.2f)' % logit_roc_auc)\n",
    "plt.plot([0, 1], [0, 1],'r--')\n",
    "plt.xlim([0.0, 1.0])\n",
    "plt.ylim([0.0, 1.05])\n",
    "plt.xlabel('False Positive Rate')\n",
    "plt.ylabel('True Positive Rate')\n",
    "plt.title('Receiver operating characteristic')\n",
    "plt.legend(loc=\"lower right\")\n",
    "plt.savefig('Log_ROC')\n",
    "plt.show()"
   ]
  },
  {
   "cell_type": "code",
   "execution_count": null,
   "metadata": {},
   "outputs": [],
   "source": []
  }
 ],
 "metadata": {
  "kernelspec": {
   "display_name": "Python 3",
   "language": "python",
   "name": "python3"
  },
  "language_info": {
   "codemirror_mode": {
    "name": "ipython",
    "version": 3
   },
   "file_extension": ".py",
   "mimetype": "text/x-python",
   "name": "python",
   "nbconvert_exporter": "python",
   "pygments_lexer": "ipython3",
   "version": "3.7.4"
  }
 },
 "nbformat": 4,
 "nbformat_minor": 2
}
